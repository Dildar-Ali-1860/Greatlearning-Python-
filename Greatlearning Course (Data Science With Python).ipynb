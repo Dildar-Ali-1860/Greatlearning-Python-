{
 "cells": [
  {
   "cell_type": "markdown",
   "id": "f3a890d1",
   "metadata": {},
   "source": [
    "# Functions "
   ]
  },
  {
   "cell_type": "code",
   "execution_count": 27,
   "id": "74aa83a1",
   "metadata": {},
   "outputs": [],
   "source": [
    "def add_10(num):\n",
    "    print(num+10)"
   ]
  },
  {
   "cell_type": "code",
   "execution_count": 29,
   "id": "99c5a175",
   "metadata": {},
   "outputs": [
    {
     "name": "stdout",
     "output_type": "stream",
     "text": [
      "210\n"
     ]
    }
   ],
   "source": [
    "add_10(200)"
   ]
  },
  {
   "cell_type": "code",
   "execution_count": 30,
   "id": "8ee84651",
   "metadata": {},
   "outputs": [
    {
     "name": "stdout",
     "output_type": "stream",
     "text": [
      "200\n"
     ]
    }
   ],
   "source": [
    "add_10(190)"
   ]
  },
  {
   "cell_type": "code",
   "execution_count": 31,
   "id": "5a92dd6d",
   "metadata": {},
   "outputs": [],
   "source": [
    "def even_num(num):\n",
    "    if num%2==0:\n",
    "        print(num,'is even!')\n",
    "    else:\n",
    "        print(num,'is odd!')"
   ]
  },
  {
   "cell_type": "code",
   "execution_count": 32,
   "id": "e0e9a745",
   "metadata": {},
   "outputs": [
    {
     "name": "stdout",
     "output_type": "stream",
     "text": [
      "100 is even!\n"
     ]
    }
   ],
   "source": [
    "even_num(100)"
   ]
  },
  {
   "cell_type": "code",
   "execution_count": 33,
   "id": "16468554",
   "metadata": {},
   "outputs": [
    {
     "name": "stdout",
     "output_type": "stream",
     "text": [
      "101 is odd!\n"
     ]
    }
   ],
   "source": [
    "even_num(101)"
   ]
  },
  {
   "cell_type": "markdown",
   "id": "dedfde67",
   "metadata": {},
   "source": [
    "# Class,Objects"
   ]
  },
  {
   "cell_type": "code",
   "execution_count": 8,
   "id": "465162ea",
   "metadata": {},
   "outputs": [],
   "source": [
    "class Phone:\n",
    "    def make_call(self):\n",
    "        print('Making a phone call')\n",
    "        \n",
    "    def playing_games(self):\n",
    "        print('Playing game')\n",
    "        \n",
    "    def playing_videos(self):\n",
    "        print('Playing videos')"
   ]
  },
  {
   "cell_type": "code",
   "execution_count": 9,
   "id": "e485b815",
   "metadata": {},
   "outputs": [],
   "source": [
    "a=Phone()"
   ]
  },
  {
   "cell_type": "code",
   "execution_count": 10,
   "id": "c4ed3448",
   "metadata": {},
   "outputs": [
    {
     "name": "stdout",
     "output_type": "stream",
     "text": [
      "Making a phone call\n"
     ]
    }
   ],
   "source": [
    "a.make_call()"
   ]
  },
  {
   "cell_type": "code",
   "execution_count": 11,
   "id": "8df9755f",
   "metadata": {},
   "outputs": [
    {
     "name": "stdout",
     "output_type": "stream",
     "text": [
      "Playing game\n"
     ]
    }
   ],
   "source": [
    "a.playing_games()"
   ]
  },
  {
   "cell_type": "code",
   "execution_count": 12,
   "id": "a55934c4",
   "metadata": {},
   "outputs": [
    {
     "name": "stdout",
     "output_type": "stream",
     "text": [
      "Playing videos\n"
     ]
    }
   ],
   "source": [
    "a.playing_videos()"
   ]
  },
  {
   "cell_type": "code",
   "execution_count": 13,
   "id": "746952a2",
   "metadata": {},
   "outputs": [],
   "source": [
    "class Phone:\n",
    "    def add_color(self,color):\n",
    "        self.color=color\n",
    "        return color\n",
    "        \n",
    "    def add_cost(self,cost):\n",
    "        self.cost=cost\n",
    "        return cost\n",
    "    \n",
    "    def make_call(self):\n",
    "        print('Making a phone call')\n",
    "        \n",
    "    def playing_games(self):\n",
    "        print('Playing game')\n",
    "        \n",
    "    def playing_videos(self):\n",
    "        print('Playing videos')"
   ]
  },
  {
   "cell_type": "code",
   "execution_count": 14,
   "id": "0b29011a",
   "metadata": {},
   "outputs": [],
   "source": [
    "a=Phone()"
   ]
  },
  {
   "cell_type": "code",
   "execution_count": 15,
   "id": "07a106b8",
   "metadata": {},
   "outputs": [
    {
     "data": {
      "text/plain": [
       "'green'"
      ]
     },
     "execution_count": 15,
     "metadata": {},
     "output_type": "execute_result"
    }
   ],
   "source": [
    "a.add_color(\"green\")"
   ]
  },
  {
   "cell_type": "code",
   "execution_count": 16,
   "id": "d62253fb",
   "metadata": {},
   "outputs": [
    {
     "data": {
      "text/plain": [
       "300"
      ]
     },
     "execution_count": 16,
     "metadata": {},
     "output_type": "execute_result"
    }
   ],
   "source": [
    "a.add_cost(300)"
   ]
  },
  {
   "cell_type": "code",
   "execution_count": 17,
   "id": "f05f04b2",
   "metadata": {},
   "outputs": [
    {
     "name": "stdout",
     "output_type": "stream",
     "text": [
      "Making a phone call\n"
     ]
    }
   ],
   "source": [
    "a.make_call()"
   ]
  },
  {
   "cell_type": "code",
   "execution_count": 19,
   "id": "a48d4817",
   "metadata": {},
   "outputs": [
    {
     "data": {
      "text/plain": [
       "'Blue'"
      ]
     },
     "execution_count": 19,
     "metadata": {},
     "output_type": "execute_result"
    }
   ],
   "source": [
    "b=Phone()\n",
    "b.add_color('Blue')\n"
   ]
  },
  {
   "cell_type": "code",
   "execution_count": 21,
   "id": "bc6d814f",
   "metadata": {},
   "outputs": [
    {
     "data": {
      "text/plain": [
       "'Green'"
      ]
     },
     "execution_count": 21,
     "metadata": {},
     "output_type": "execute_result"
    }
   ],
   "source": [
    "a.add_color('Green')"
   ]
  },
  {
   "cell_type": "code",
   "execution_count": 22,
   "id": "cfb8f289",
   "metadata": {},
   "outputs": [],
   "source": [
    "#Inheritance\n",
    "\n",
    "class Name(Phone):\n",
    "    \n",
    "    def user(self):\n",
    "        print(\"Dildar Ali\")"
   ]
  },
  {
   "cell_type": "code",
   "execution_count": 23,
   "id": "884c6215",
   "metadata": {},
   "outputs": [],
   "source": [
    "c=Name()"
   ]
  },
  {
   "cell_type": "code",
   "execution_count": 24,
   "id": "18f4b82a",
   "metadata": {},
   "outputs": [
    {
     "data": {
      "text/plain": [
       "'Grey'"
      ]
     },
     "execution_count": 24,
     "metadata": {},
     "output_type": "execute_result"
    }
   ],
   "source": [
    "c.add_color(\"Grey\")"
   ]
  },
  {
   "cell_type": "code",
   "execution_count": 25,
   "id": "a78b9ade",
   "metadata": {},
   "outputs": [
    {
     "name": "stdout",
     "output_type": "stream",
     "text": [
      "Dildar Ali\n"
     ]
    }
   ],
   "source": [
    "c.user()"
   ]
  },
  {
   "cell_type": "markdown",
   "id": "85fcf0b3",
   "metadata": {},
   "source": [
    "# NumPy (NumericPython)"
   ]
  },
  {
   "cell_type": "code",
   "execution_count": 37,
   "id": "df7cd187",
   "metadata": {},
   "outputs": [],
   "source": [
    "import numpy as np"
   ]
  },
  {
   "cell_type": "code",
   "execution_count": 39,
   "id": "22374251",
   "metadata": {},
   "outputs": [
    {
     "data": {
      "text/plain": [
       "array([1, 2, 3, 4, 5])"
      ]
     },
     "execution_count": 39,
     "metadata": {},
     "output_type": "execute_result"
    }
   ],
   "source": [
    "#Single array\n",
    "\n",
    "a=np.array([1,2,3,4,5])\n",
    "a"
   ]
  },
  {
   "cell_type": "code",
   "execution_count": 40,
   "id": "a6c56525",
   "metadata": {},
   "outputs": [
    {
     "data": {
      "text/plain": [
       "numpy.ndarray"
      ]
     },
     "execution_count": 40,
     "metadata": {},
     "output_type": "execute_result"
    }
   ],
   "source": [
    "type(a)"
   ]
  },
  {
   "cell_type": "code",
   "execution_count": 42,
   "id": "1462c713",
   "metadata": {},
   "outputs": [
    {
     "data": {
      "text/plain": [
       "array([[2, 4, 6],\n",
       "       [1, 3, 5]])"
      ]
     },
     "execution_count": 42,
     "metadata": {},
     "output_type": "execute_result"
    }
   ],
   "source": [
    "#multi dimensional arrays\n",
    "\n",
    "a=np.array([[2,4,6],[1,3,5]])\n",
    "a"
   ]
  },
  {
   "cell_type": "code",
   "execution_count": 43,
   "id": "0e4a1b9c",
   "metadata": {},
   "outputs": [
    {
     "data": {
      "text/plain": [
       "numpy.ndarray"
      ]
     },
     "execution_count": 43,
     "metadata": {},
     "output_type": "execute_result"
    }
   ],
   "source": [
    "type(a)"
   ]
  },
  {
   "cell_type": "code",
   "execution_count": 45,
   "id": "b53860fd",
   "metadata": {},
   "outputs": [
    {
     "data": {
      "text/plain": [
       "array([[0., 0.]])"
      ]
     },
     "execution_count": 45,
     "metadata": {},
     "output_type": "execute_result"
    }
   ],
   "source": [
    "#Numpy array with zeros\n",
    "\n",
    "a=np.zeros((1,2))\n",
    "a"
   ]
  },
  {
   "cell_type": "code",
   "execution_count": 46,
   "id": "c1f109fb",
   "metadata": {},
   "outputs": [
    {
     "data": {
      "text/plain": [
       "array([[0., 0., 0., 0.],\n",
       "       [0., 0., 0., 0.],\n",
       "       [0., 0., 0., 0.]])"
      ]
     },
     "execution_count": 46,
     "metadata": {},
     "output_type": "execute_result"
    }
   ],
   "source": [
    "a=np.zeros((3,4))\n",
    "a"
   ]
  },
  {
   "cell_type": "code",
   "execution_count": 48,
   "id": "57b8aab5",
   "metadata": {},
   "outputs": [
    {
     "data": {
      "text/plain": [
       "array([[5, 5, 5],\n",
       "       [5, 5, 5],\n",
       "       [5, 5, 5]])"
      ]
     },
     "execution_count": 48,
     "metadata": {},
     "output_type": "execute_result"
    }
   ],
   "source": [
    "#intialize numpy with same number\n",
    "\n",
    "a=np.full((3,3),5)\n",
    "a"
   ]
  },
  {
   "cell_type": "code",
   "execution_count": 49,
   "id": "bc8dfe46",
   "metadata": {},
   "outputs": [
    {
     "data": {
      "text/plain": [
       "array([[10, 10, 10],\n",
       "       [10, 10, 10]])"
      ]
     },
     "execution_count": 49,
     "metadata": {},
     "output_type": "execute_result"
    }
   ],
   "source": [
    "a=np.full((2,3),10)\n",
    "a"
   ]
  },
  {
   "cell_type": "code",
   "execution_count": 53,
   "id": "8115f7fa",
   "metadata": {},
   "outputs": [
    {
     "data": {
      "text/plain": [
       "array([10, 11, 12, 13, 14])"
      ]
     },
     "execution_count": 53,
     "metadata": {},
     "output_type": "execute_result"
    }
   ],
   "source": [
    "a=np.arange(10,15)\n",
    "a"
   ]
  },
  {
   "cell_type": "code",
   "execution_count": 54,
   "id": "c315ec38",
   "metadata": {},
   "outputs": [
    {
     "data": {
      "text/plain": [
       "array([ 1,  3,  5,  7,  9, 11, 13, 15, 17, 19])"
      ]
     },
     "execution_count": 54,
     "metadata": {},
     "output_type": "execute_result"
    }
   ],
   "source": [
    "a=np.arange(1,20,2)\n",
    "a"
   ]
  },
  {
   "cell_type": "code",
   "execution_count": 55,
   "id": "7c5362f7",
   "metadata": {},
   "outputs": [
    {
     "data": {
      "text/plain": [
       "array([ 2,  4,  6,  8, 10, 12, 14, 16, 18])"
      ]
     },
     "execution_count": 55,
     "metadata": {},
     "output_type": "execute_result"
    }
   ],
   "source": [
    "a=np.arange(2,20,2)\n",
    "a"
   ]
  },
  {
   "cell_type": "code",
   "execution_count": 56,
   "id": "0f3d7caa",
   "metadata": {},
   "outputs": [
    {
     "data": {
      "text/plain": [
       "array([ 5, 10, 15, 20, 25, 30, 35, 40, 45])"
      ]
     },
     "execution_count": 56,
     "metadata": {},
     "output_type": "execute_result"
    }
   ],
   "source": [
    "a=np.arange(5,50,5)\n",
    "a"
   ]
  },
  {
   "cell_type": "code",
   "execution_count": 57,
   "id": "0857c2f0",
   "metadata": {},
   "outputs": [
    {
     "data": {
      "text/plain": [
       "array([128,  91, 189, 120, 101, 132, 175])"
      ]
     },
     "execution_count": 57,
     "metadata": {},
     "output_type": "execute_result"
    }
   ],
   "source": [
    "#Numpy array with random numbers\n",
    "\n",
    "\n",
    "a=np.random.randint(20,200,7)  #(start,end,no: of random numbers)\n",
    "a"
   ]
  },
  {
   "cell_type": "code",
   "execution_count": 58,
   "id": "3f0f0205",
   "metadata": {},
   "outputs": [
    {
     "data": {
      "text/plain": [
       "array([388,  68, 147, 262, 408, 306, 852])"
      ]
     },
     "execution_count": 58,
     "metadata": {},
     "output_type": "execute_result"
    }
   ],
   "source": [
    "a=np.random.randint(20,1000,7)  #(start,end,no: of random numbers)\n",
    "a"
   ]
  },
  {
   "cell_type": "code",
   "execution_count": 64,
   "id": "18fa4007",
   "metadata": {},
   "outputs": [
    {
     "data": {
      "text/plain": [
       "(1, 3)"
      ]
     },
     "execution_count": 64,
     "metadata": {},
     "output_type": "execute_result"
    }
   ],
   "source": [
    "#numpy array shape\n",
    "\n",
    "a=np.shape([[2,3,4]])\n",
    "a"
   ]
  },
  {
   "cell_type": "code",
   "execution_count": 65,
   "id": "17f91970",
   "metadata": {},
   "outputs": [
    {
     "data": {
      "text/plain": [
       "(2, 3)"
      ]
     },
     "execution_count": 65,
     "metadata": {},
     "output_type": "execute_result"
    }
   ],
   "source": [
    "a=np.shape([[2,3,4],[5,6,7]])\n",
    "a"
   ]
  },
  {
   "cell_type": "code",
   "execution_count": 67,
   "id": "9fce211c",
   "metadata": {},
   "outputs": [
    {
     "data": {
      "text/plain": [
       "(3, 3)"
      ]
     },
     "execution_count": 67,
     "metadata": {},
     "output_type": "execute_result"
    }
   ],
   "source": [
    "a=np.shape([[2,3,4],[5,6,7],[7,8,9]])\n",
    "a"
   ]
  },
  {
   "cell_type": "code",
   "execution_count": 6,
   "id": "84440a87",
   "metadata": {},
   "outputs": [
    {
     "data": {
      "text/plain": [
       "140"
      ]
     },
     "execution_count": 6,
     "metadata": {},
     "output_type": "execute_result"
    }
   ],
   "source": [
    "#additon of Numpy array\n",
    "import numpy as np\n",
    "a=np.array([20,40])\n",
    "b=np.array([30,50])\n",
    "np.sum([a,b])  #addition of all idividual elements"
   ]
  },
  {
   "cell_type": "code",
   "execution_count": 7,
   "id": "f58e7f87",
   "metadata": {},
   "outputs": [
    {
     "data": {
      "text/plain": [
       "array([50, 90])"
      ]
     },
     "execution_count": 7,
     "metadata": {},
     "output_type": "execute_result"
    }
   ],
   "source": [
    "np.sum([a,b],axis=0)   #additon vertically (y-axis)"
   ]
  },
  {
   "cell_type": "code",
   "execution_count": 8,
   "id": "8c95d931",
   "metadata": {},
   "outputs": [
    {
     "data": {
      "text/plain": [
       "array([60, 80])"
      ]
     },
     "execution_count": 8,
     "metadata": {},
     "output_type": "execute_result"
    }
   ],
   "source": [
    "np.sum([a,b],axis=1)   #addition horizontally (x-axis)"
   ]
  },
  {
   "cell_type": "code",
   "execution_count": 10,
   "id": "ef907a88",
   "metadata": {},
   "outputs": [
    {
     "data": {
      "text/plain": [
       "array([[20, 30, 40],\n",
       "       [50, 60, 70]])"
      ]
     },
     "execution_count": 10,
     "metadata": {},
     "output_type": "execute_result"
    }
   ],
   "source": [
    "#Joining numpy array\n",
    "\n",
    "#vertcal satck (stack() )\n",
    "#Horizonatl stck (hstack() )\n",
    "#column_stack()\n",
    "\n",
    "a=np.array([20,30,40])\n",
    "b=np.array([50,60,70])\n",
    "np.vstack([a,b])     #vertical"
   ]
  },
  {
   "cell_type": "code",
   "execution_count": 11,
   "id": "ae62331f",
   "metadata": {},
   "outputs": [
    {
     "data": {
      "text/plain": [
       "array([20, 30, 40, 50, 60, 70])"
      ]
     },
     "execution_count": 11,
     "metadata": {},
     "output_type": "execute_result"
    }
   ],
   "source": [
    "np.hstack([a,b]) #horizonatl"
   ]
  },
  {
   "cell_type": "code",
   "execution_count": 12,
   "id": "6f8de25e",
   "metadata": {},
   "outputs": [
    {
     "data": {
      "text/plain": [
       "array([[20, 50],\n",
       "       [30, 60],\n",
       "       [40, 70]])"
      ]
     },
     "execution_count": 12,
     "metadata": {},
     "output_type": "execute_result"
    }
   ],
   "source": [
    "np.column_stack([a,b])     #column"
   ]
  },
  {
   "cell_type": "markdown",
   "id": "b8309f00",
   "metadata": {},
   "source": [
    "# Pyhton Panadas (Panal data)"
   ]
  },
  {
   "cell_type": "code",
   "execution_count": 14,
   "id": "e28e10fc",
   "metadata": {},
   "outputs": [],
   "source": [
    "import pandas as pd"
   ]
  },
  {
   "cell_type": "code",
   "execution_count": 15,
   "id": "e6c22857",
   "metadata": {},
   "outputs": [
    {
     "data": {
      "text/plain": [
       "0    2\n",
       "1    3\n",
       "2    4\n",
       "3    5\n",
       "4    6\n",
       "5    7\n",
       "6    8\n",
       "dtype: int64"
      ]
     },
     "execution_count": 15,
     "metadata": {},
     "output_type": "execute_result"
    }
   ],
   "source": [
    "a=pd.Series([2,3,4,5,6,7,8])\n",
    "a"
   ]
  },
  {
   "cell_type": "code",
   "execution_count": 23,
   "id": "3059cb77",
   "metadata": {},
   "outputs": [
    {
     "data": {
      "text/plain": [
       "pandas.core.series.Series"
      ]
     },
     "execution_count": 23,
     "metadata": {},
     "output_type": "execute_result"
    }
   ],
   "source": [
    "type(a)"
   ]
  },
  {
   "cell_type": "code",
   "execution_count": 26,
   "id": "9a1029cc",
   "metadata": {},
   "outputs": [
    {
     "data": {
      "text/plain": [
       "a    2\n",
       "b    3\n",
       "c    4\n",
       "d    5\n",
       "e    6\n",
       "f    7\n",
       "g    8\n",
       "dtype: int64"
      ]
     },
     "execution_count": 26,
     "metadata": {},
     "output_type": "execute_result"
    }
   ],
   "source": [
    "a=pd.Series([2,3,4,5,6,7,8],index=[\"a\",'b','c','d','e','f','g'])\n",
    "a"
   ]
  },
  {
   "cell_type": "code",
   "execution_count": 28,
   "id": "3942b393",
   "metadata": {
    "scrolled": true
   },
   "outputs": [
    {
     "data": {
      "text/plain": [
       "1    10\n",
       "2    20\n",
       "3    30\n",
       "dtype: int64"
      ]
     },
     "execution_count": 28,
     "metadata": {},
     "output_type": "execute_result"
    }
   ],
   "source": [
    "a=pd.Series({1:10,2:20,3:30})\n",
    "a"
   ]
  },
  {
   "cell_type": "code",
   "execution_count": 29,
   "id": "e9633d46",
   "metadata": {
    "scrolled": true
   },
   "outputs": [
    {
     "data": {
      "text/plain": [
       "a1    20\n",
       "a2    30\n",
       "a3    40\n",
       "a4    50\n",
       "dtype: int64"
      ]
     },
     "execution_count": 29,
     "metadata": {},
     "output_type": "execute_result"
    }
   ],
   "source": [
    "b=pd.Series({'a1':20,'a2':30,'a3':40,'a4':50})\n",
    "b"
   ]
  },
  {
   "cell_type": "code",
   "execution_count": 31,
   "id": "0436f588",
   "metadata": {},
   "outputs": [
    {
     "data": {
      "text/plain": [
       "7    1\n",
       "6    2\n",
       "5    3\n",
       "4    4\n",
       "3    5\n",
       "2    6\n",
       "1    7\n",
       "dtype: int64"
      ]
     },
     "execution_count": 31,
     "metadata": {},
     "output_type": "execute_result"
    }
   ],
   "source": [
    "c=pd.Series([1,2,3,4,5,6,7],index=[7,6,5,4,3,2,1])\n",
    "c"
   ]
  },
  {
   "cell_type": "markdown",
   "id": "ea0b7602",
   "metadata": {},
   "source": [
    "# Pandas Dataframe"
   ]
  },
  {
   "cell_type": "code",
   "execution_count": 34,
   "id": "5721dce3",
   "metadata": {},
   "outputs": [
    {
     "data": {
      "text/html": [
       "<div>\n",
       "<style scoped>\n",
       "    .dataframe tbody tr th:only-of-type {\n",
       "        vertical-align: middle;\n",
       "    }\n",
       "\n",
       "    .dataframe tbody tr th {\n",
       "        vertical-align: top;\n",
       "    }\n",
       "\n",
       "    .dataframe thead th {\n",
       "        text-align: right;\n",
       "    }\n",
       "</style>\n",
       "<table border=\"1\" class=\"dataframe\">\n",
       "  <thead>\n",
       "    <tr style=\"text-align: right;\">\n",
       "      <th></th>\n",
       "      <th>Names</th>\n",
       "      <th>Marks</th>\n",
       "    </tr>\n",
       "  </thead>\n",
       "  <tbody>\n",
       "    <tr>\n",
       "      <th>0</th>\n",
       "      <td>Ali</td>\n",
       "      <td>89</td>\n",
       "    </tr>\n",
       "    <tr>\n",
       "      <th>1</th>\n",
       "      <td>Asad</td>\n",
       "      <td>78</td>\n",
       "    </tr>\n",
       "    <tr>\n",
       "      <th>2</th>\n",
       "      <td>Dildar</td>\n",
       "      <td>90</td>\n",
       "    </tr>\n",
       "  </tbody>\n",
       "</table>\n",
       "</div>"
      ],
      "text/plain": [
       "    Names  Marks\n",
       "0     Ali     89\n",
       "1    Asad     78\n",
       "2  Dildar     90"
      ]
     },
     "execution_count": 34,
     "metadata": {},
     "output_type": "execute_result"
    }
   ],
   "source": [
    "a={'Names':['Ali','Asad',\"Dildar\"],'Marks':[89,78,90]}\n",
    "pd.DataFrame(a)"
   ]
  },
  {
   "cell_type": "code",
   "execution_count": 36,
   "id": "7c3c4d64",
   "metadata": {},
   "outputs": [
    {
     "data": {
      "text/html": [
       "<div>\n",
       "<style scoped>\n",
       "    .dataframe tbody tr th:only-of-type {\n",
       "        vertical-align: middle;\n",
       "    }\n",
       "\n",
       "    .dataframe tbody tr th {\n",
       "        vertical-align: top;\n",
       "    }\n",
       "\n",
       "    .dataframe thead th {\n",
       "        text-align: right;\n",
       "    }\n",
       "</style>\n",
       "<table border=\"1\" class=\"dataframe\">\n",
       "  <thead>\n",
       "    <tr style=\"text-align: right;\">\n",
       "      <th></th>\n",
       "      <th>Names</th>\n",
       "      <th>Marks</th>\n",
       "      <th>Age</th>\n",
       "      <th>Wieght</th>\n",
       "    </tr>\n",
       "  </thead>\n",
       "  <tbody>\n",
       "    <tr>\n",
       "      <th>0</th>\n",
       "      <td>Abdullah</td>\n",
       "      <td>89</td>\n",
       "      <td>18</td>\n",
       "      <td>67kg</td>\n",
       "    </tr>\n",
       "    <tr>\n",
       "      <th>1</th>\n",
       "      <td>Asad</td>\n",
       "      <td>78</td>\n",
       "      <td>20</td>\n",
       "      <td>58kg</td>\n",
       "    </tr>\n",
       "    <tr>\n",
       "      <th>2</th>\n",
       "      <td>Dildar</td>\n",
       "      <td>90</td>\n",
       "      <td>25</td>\n",
       "      <td>49kg</td>\n",
       "    </tr>\n",
       "  </tbody>\n",
       "</table>\n",
       "</div>"
      ],
      "text/plain": [
       "      Names  Marks  Age Wieght\n",
       "0  Abdullah     89   18   67kg\n",
       "1      Asad     78   20   58kg\n",
       "2    Dildar     90   25   49kg"
      ]
     },
     "execution_count": 36,
     "metadata": {},
     "output_type": "execute_result"
    }
   ],
   "source": [
    "b={'Names':['Abdullah','Asad',\"Dildar\"],'Marks':[89,78,90],'Age':[18,20,25],'Wieght':['67kg','58kg','49kg']}\n",
    "pd.DataFrame(b)"
   ]
  },
  {
   "cell_type": "code",
   "execution_count": 37,
   "id": "ee18f56b",
   "metadata": {},
   "outputs": [
    {
     "data": {
      "text/plain": [
       "0    2\n",
       "1    4\n",
       "2    5\n",
       "3    6\n",
       "4    7\n",
       "dtype: int64"
      ]
     },
     "execution_count": 37,
     "metadata": {},
     "output_type": "execute_result"
    }
   ],
   "source": [
    "a=pd.Series([2,4,5,6,7])\n",
    "a"
   ]
  },
  {
   "cell_type": "code",
   "execution_count": 42,
   "id": "185beea0",
   "metadata": {},
   "outputs": [
    {
     "data": {
      "text/html": [
       "<div>\n",
       "<style scoped>\n",
       "    .dataframe tbody tr th:only-of-type {\n",
       "        vertical-align: middle;\n",
       "    }\n",
       "\n",
       "    .dataframe tbody tr th {\n",
       "        vertical-align: top;\n",
       "    }\n",
       "\n",
       "    .dataframe thead th {\n",
       "        text-align: right;\n",
       "    }\n",
       "</style>\n",
       "<table border=\"1\" class=\"dataframe\">\n",
       "  <thead>\n",
       "    <tr style=\"text-align: right;\">\n",
       "      <th></th>\n",
       "      <th>Roll Number</th>\n",
       "      <th>Score</th>\n",
       "    </tr>\n",
       "  </thead>\n",
       "  <tbody>\n",
       "    <tr>\n",
       "      <th>0</th>\n",
       "      <td>1</td>\n",
       "      <td>99</td>\n",
       "    </tr>\n",
       "    <tr>\n",
       "      <th>1</th>\n",
       "      <td>2</td>\n",
       "      <td>67</td>\n",
       "    </tr>\n",
       "    <tr>\n",
       "      <th>2</th>\n",
       "      <td>3</td>\n",
       "      <td>87</td>\n",
       "    </tr>\n",
       "    <tr>\n",
       "      <th>3</th>\n",
       "      <td>4</td>\n",
       "      <td>65</td>\n",
       "    </tr>\n",
       "    <tr>\n",
       "      <th>4</th>\n",
       "      <td>5</td>\n",
       "      <td>78</td>\n",
       "    </tr>\n",
       "  </tbody>\n",
       "</table>\n",
       "</div>"
      ],
      "text/plain": [
       "   Roll Number  Score\n",
       "0            1     99\n",
       "1            2     67\n",
       "2            3     87\n",
       "3            4     65\n",
       "4            5     78"
      ]
     },
     "execution_count": 42,
     "metadata": {},
     "output_type": "execute_result"
    }
   ],
   "source": [
    "a=pd.DataFrame({'Roll Number':[1,2,3,4,5],\"Score\":[99,67,87,65,78]})\n",
    "a"
   ]
  },
  {
   "cell_type": "markdown",
   "id": "96583b75",
   "metadata": {},
   "source": [
    "# Data Visualization"
   ]
  },
  {
   "cell_type": "code",
   "execution_count": 65,
   "id": "64458618",
   "metadata": {},
   "outputs": [],
   "source": [
    "from matplotlib import pyplot as pt"
   ]
  },
  {
   "cell_type": "code",
   "execution_count": 146,
   "id": "878186ab",
   "metadata": {},
   "outputs": [],
   "source": [
    "import numpy as np"
   ]
  },
  {
   "cell_type": "code",
   "execution_count": 67,
   "id": "9b0c6ce9",
   "metadata": {},
   "outputs": [
    {
     "data": {
      "text/plain": [
       "array([ 1,  2,  3,  4,  5,  6,  7,  8,  9, 10])"
      ]
     },
     "execution_count": 67,
     "metadata": {},
     "output_type": "execute_result"
    }
   ],
   "source": [
    "a=np.arange(1,11)\n",
    "a"
   ]
  },
  {
   "cell_type": "code",
   "execution_count": 69,
   "id": "3c6c5e71",
   "metadata": {},
   "outputs": [
    {
     "data": {
      "text/plain": [
       "array([ 2,  4,  6,  8, 10, 12, 14, 16, 18, 20])"
      ]
     },
     "execution_count": 69,
     "metadata": {},
     "output_type": "execute_result"
    }
   ],
   "source": [
    "b=2*a\n",
    "b"
   ]
  },
  {
   "cell_type": "code",
   "execution_count": 70,
   "id": "69e24be2",
   "metadata": {},
   "outputs": [
    {
     "data": {
      "image/png": "[encoded data removed]",
      "text/plain": [
       "<Figure size 432x288 with 1 Axes>"
      ]
     },
     "metadata": {
      "needs_background": "light"
     },
     "output_type": "display_data"
    }
   ],
   "source": [
    "pt.plot(a,b)\n",
    "pt.show()"
   ]
  },
  {
   "cell_type": "code",
   "execution_count": 71,
   "id": "922b6bf9",
   "metadata": {},
   "outputs": [
    {
     "data": {
      "image/png": "[encoded data removed]",
      "text/plain": [
       "<Figure size 432x288 with 1 Axes>"
      ]
     },
     "metadata": {
      "needs_background": "light"
     },
     "output_type": "display_data"
    }
   ],
   "source": [
    "pt.plot(a,b)\n",
    "pt.title('Line plot')\n",
    "pt.xlabel('x-axis')\n",
    "pt.ylabel('y-axis')\n",
    "pt.show()"
   ]
  },
  {
   "cell_type": "code",
   "execution_count": 72,
   "id": "58b62730",
   "metadata": {},
   "outputs": [
    {
     "data": {
      "image/png": "[encoded data removed]",
      "text/plain": [
       "<Figure size 432x288 with 1 Axes>"
      ]
     },
     "metadata": {
      "needs_background": "light"
     },
     "output_type": "display_data"
    }
   ],
   "source": [
    "pt.plot(a,b,color='Green')\n",
    "pt.title('Line plot')\n",
    "pt.xlabel('x-axis')\n",
    "pt.ylabel('y-axis')\n",
    "pt.show()"
   ]
  },
  {
   "cell_type": "code",
   "execution_count": 73,
   "id": "3378bfa6",
   "metadata": {},
   "outputs": [
    {
     "data": {
      "image/png": "[encoded data removed]",
      "text/plain": [
       "<Figure size 432x288 with 1 Axes>"
      ]
     },
     "metadata": {
      "needs_background": "light"
     },
     "output_type": "display_data"
    }
   ],
   "source": [
    "pt.plot(a,b,color='red')\n",
    "pt.title('Line plot')\n",
    "pt.xlabel('x-axis')\n",
    "pt.ylabel('y-axis')\n",
    "pt.show()"
   ]
  },
  {
   "cell_type": "code",
   "execution_count": 74,
   "id": "63a46d3e",
   "metadata": {},
   "outputs": [
    {
     "data": {
      "image/png": "[encoded data removed]",
      "text/plain": [
       "<Figure size 432x288 with 1 Axes>"
      ]
     },
     "metadata": {
      "needs_background": "light"
     },
     "output_type": "display_data"
    }
   ],
   "source": [
    "pt.plot(a,b,color='red',linewidth=8)\n",
    "pt.title('Line plot')\n",
    "pt.xlabel('x-axis')\n",
    "pt.ylabel('y-axis')\n",
    "pt.show()"
   ]
  },
  {
   "cell_type": "code",
   "execution_count": 75,
   "id": "74357522",
   "metadata": {},
   "outputs": [
    {
     "data": {
      "image/png": "[encoded data removed]",
      "text/plain": [
       "<Figure size 432x288 with 1 Axes>"
      ]
     },
     "metadata": {
      "needs_background": "light"
     },
     "output_type": "display_data"
    }
   ],
   "source": [
    "pt.plot(a,b,color='red',linewidth=1)\n",
    "pt.title('Line plot')\n",
    "pt.xlabel('x-axis')\n",
    "pt.ylabel('y-axis')\n",
    "pt.show()"
   ]
  },
  {
   "cell_type": "code",
   "execution_count": 78,
   "id": "2d5d921e",
   "metadata": {},
   "outputs": [
    {
     "data": {
      "image/png": "[encoded data removed]",
      "text/plain": [
       "<Figure size 432x288 with 1 Axes>"
      ]
     },
     "metadata": {
      "needs_background": "light"
     },
     "output_type": "display_data"
    }
   ],
   "source": [
    "pt.plot(a,b,color='red',linewidth=7,linestyle=\":\")\n",
    "pt.title('Line plot')\n",
    "pt.xlabel('x-axis')\n",
    "pt.ylabel('y-axis')\n",
    "pt.show()"
   ]
  },
  {
   "cell_type": "code",
   "execution_count": 80,
   "id": "536dba0b",
   "metadata": {},
   "outputs": [
    {
     "data": {
      "image/png": "[encoded data removed]",
      "text/plain": [
       "<Figure size 432x288 with 1 Axes>"
      ]
     },
     "metadata": {
      "needs_background": "light"
     },
     "output_type": "display_data"
    }
   ],
   "source": [
    "pt.plot(a,b,color='red',linewidth=3,linestyle=\":\")\n",
    "pt.title('Line plot')\n",
    "pt.xlabel('x-axis')\n",
    "pt.ylabel('y-axis')\n",
    "pt.show()"
   ]
  },
  {
   "cell_type": "code",
   "execution_count": 84,
   "id": "4fd78947",
   "metadata": {},
   "outputs": [
    {
     "data": {
      "image/png": "[encoded data removed]",
      "text/plain": [
       "<Figure size 432x288 with 1 Axes>"
      ]
     },
     "metadata": {
      "needs_background": "light"
     },
     "output_type": "display_data"
    }
   ],
   "source": [
    "pt.plot(a,b,color='red',linewidth=2,linestyle=\":\")\n",
    "pt.title('Line plot')\n",
    "pt.xlabel('x-axis')\n",
    "pt.ylabel('y-axis')\n",
    "pt.grid(True)\n",
    "pt.show()"
   ]
  },
  {
   "cell_type": "code",
   "execution_count": 88,
   "id": "e75a5ed2",
   "metadata": {},
   "outputs": [
    {
     "data": {
      "image/png": "[encoded data removed]",
      "text/plain": [
       "<Figure size 432x288 with 1 Axes>"
      ]
     },
     "metadata": {
      "needs_background": "light"
     },
     "output_type": "display_data"
    }
   ],
   "source": [
    "x=2*a\n",
    "y=4*a\n",
    "z=a\n",
    "pt.plot(a,x,color='red',linewidth=2)\n",
    "pt.plot(a,y,color='green',linewidth=2)\n",
    "pt.plot(a,z,color='blue',linewidth=2)\n",
    "pt.title('Line plot')\n",
    "pt.xlabel('x-axis')\n",
    "pt.ylabel('y-axis')\n",
    "pt.grid(True)\n",
    "pt.show()"
   ]
  },
  {
   "cell_type": "code",
   "execution_count": 141,
   "id": "88997147",
   "metadata": {},
   "outputs": [
    {
     "data": {
      "image/png": "[encoded data removed]",
      "text/plain": [
       "<Figure size 432x288 with 1 Axes>"
      ]
     },
     "metadata": {
      "needs_background": "light"
     },
     "output_type": "display_data"
    }
   ],
   "source": [
    "from matplotlib import pyplot as pt\n",
    "import numpy as np\n",
    "b=np.arange(10,1)\n",
    "#b=np.array([9,8,7,6,5,4,1])\n",
    "x=b+1\n",
    "y=b+2\n",
    "z=b\n",
    "pt.plot(b,x,color='red',linewidth=2)\n",
    "pt.plot(b,y,color='green',linewidth=2)\n",
    "pt.plot(b,z,color='blue',linewidth=2)\n",
    "pt.title('Line plot')\n",
    "pt.xlabel('x-axis')\n",
    "#pt.xlim('xi','x2')\n",
    "pt.ylabel('y-axis')\n",
    "#pt.ylim('y1','y2')\n",
    "pt.grid(True)\n",
    "pt.show()"
   ]
  },
  {
   "cell_type": "code",
   "execution_count": 96,
   "id": "19d5d9dd",
   "metadata": {},
   "outputs": [],
   "source": [
    "#Bar Plot\n",
    "\n",
    "std={\"Ali\":60,'Dildar':90,'Asad':40}\n",
    "a=list(std.keys())\n",
    "b=list(std.values())"
   ]
  },
  {
   "cell_type": "code",
   "execution_count": 97,
   "id": "0002a55a",
   "metadata": {},
   "outputs": [
    {
     "data": {
      "text/plain": [
       "(['Ali', 'Dildar', 'Asad'], [60, 90, 40])"
      ]
     },
     "execution_count": 97,
     "metadata": {},
     "output_type": "execute_result"
    }
   ],
   "source": [
    "a,b"
   ]
  },
  {
   "cell_type": "code",
   "execution_count": 98,
   "id": "f0bb11bc",
   "metadata": {},
   "outputs": [
    {
     "data": {
      "image/png": "[encoded data removed]",
      "text/plain": [
       "<Figure size 432x288 with 1 Axes>"
      ]
     },
     "metadata": {
      "needs_background": "light"
     },
     "output_type": "display_data"
    }
   ],
   "source": [
    "pt.bar(a,b)\n",
    "pt.show()"
   ]
  },
  {
   "cell_type": "code",
   "execution_count": 99,
   "id": "bf1329bb",
   "metadata": {},
   "outputs": [
    {
     "data": {
      "image/png": "[encoded data removed]",
      "text/plain": [
       "<Figure size 432x288 with 1 Axes>"
      ]
     },
     "metadata": {
      "needs_background": "light"
     },
     "output_type": "display_data"
    }
   ],
   "source": [
    "pt.bar(a,b,color='green')\n",
    "pt.title('Marks of students')\n",
    "pt.xlabel('Names of students')\n",
    "pt.ylabel(\"Score of students\")\n",
    "pt.grid(True)\n",
    "pt.show()"
   ]
  },
  {
   "cell_type": "code",
   "execution_count": 100,
   "id": "5b965ea3",
   "metadata": {},
   "outputs": [
    {
     "data": {
      "image/png": "[encoded data removed]",
      "text/plain": [
       "<Figure size 432x288 with 1 Axes>"
      ]
     },
     "metadata": {
      "needs_background": "light"
     },
     "output_type": "display_data"
    }
   ],
   "source": [
    "pt.barh(a,b,color='purple')\n",
    "pt.title('Marks of students')\n",
    "pt.xlabel('Names of students')\n",
    "pt.ylabel(\"Score of students\")\n",
    "pt.grid(True)\n",
    "pt.show()"
   ]
  },
  {
   "cell_type": "markdown",
   "id": "d0d125a5",
   "metadata": {},
   "source": [
    "# Scater Plot"
   ]
  },
  {
   "cell_type": "code",
   "execution_count": 103,
   "id": "04675748",
   "metadata": {},
   "outputs": [
    {
     "data": {
      "image/png": "[encoded data removed]",
      "text/plain": [
       "<Figure size 432x288 with 1 Axes>"
      ]
     },
     "metadata": {
      "needs_background": "light"
     },
     "output_type": "display_data"
    }
   ],
   "source": [
    "a=[2,3,4,5,6,7]\n",
    "b=[7,9,5,3,2,1]\n",
    "\n",
    "pt.scatter(a,b)\n",
    "pt.grid(True)"
   ]
  },
  {
   "cell_type": "code",
   "execution_count": 106,
   "id": "fb2b05b1",
   "metadata": {},
   "outputs": [
    {
     "data": {
      "image/png": "[encoded data removed]",
      "text/plain": [
       "<Figure size 432x288 with 1 Axes>"
      ]
     },
     "metadata": {
      "needs_background": "light"
     },
     "output_type": "display_data"
    }
   ],
   "source": [
    "a=[2,3,4,5,6,7]\n",
    "b=[7,9,5,3,2,1]\n",
    "c=[9,7,5,4,2,3]\n",
    "\n",
    "pt.scatter(a,b)\n",
    "pt.scatter(a,c,color='red')\n",
    "pt.grid(True)"
   ]
  },
  {
   "cell_type": "markdown",
   "id": "c9fb8771",
   "metadata": {},
   "source": [
    "# Pie Charts"
   ]
  },
  {
   "cell_type": "code",
   "execution_count": 127,
   "id": "13c611a8",
   "metadata": {},
   "outputs": [
    {
     "data": {
      "image/png": "[encoded data removed]",
      "text/plain": [
       "<Figure size 432x288 with 1 Axes>"
      ]
     },
     "metadata": {},
     "output_type": "display_data"
    }
   ],
   "source": [
    "fruits=['Apple','Orange','Banana','Mango']\n",
    "price=[28,30,40,40]\n",
    "pt.pie(price,labels=fruits)\n",
    "pt.show()"
   ]
  },
  {
   "cell_type": "code",
   "execution_count": 129,
   "id": "9b0d379c",
   "metadata": {},
   "outputs": [
    {
     "data": {
      "image/png": "[encoded data removed]",
      "text/plain": [
       "<Figure size 432x288 with 1 Axes>"
      ]
     },
     "metadata": {},
     "output_type": "display_data"
    }
   ],
   "source": [
    "fruits=['Apple','Orange','Banana','Mango']\n",
    "price=[28,30,40,40]\n",
    "pt.pie(price,labels=fruits,autopct=\"%0.2f%%\")\n",
    "pt.show()"
   ]
  },
  {
   "cell_type": "code",
   "execution_count": 131,
   "id": "3cff8ed2",
   "metadata": {},
   "outputs": [
    {
     "data": {
      "image/png": "[encoded data removed]",
      "text/plain": [
       "<Figure size 432x288 with 1 Axes>"
      ]
     },
     "metadata": {},
     "output_type": "display_data"
    }
   ],
   "source": [
    "fruits=['Apple','Orange','Banana','Mango']\n",
    "price=[28,30,40,40]\n",
    "pt.pie(price,labels=fruits,autopct=\"%0.1f%%\")\n",
    "pt.show()"
   ]
  },
  {
   "cell_type": "code",
   "execution_count": 132,
   "id": "bc209eb7",
   "metadata": {},
   "outputs": [
    {
     "data": {
      "image/png": "[encoded data removed]",
      "text/plain": [
       "<Figure size 432x288 with 1 Axes>"
      ]
     },
     "metadata": {},
     "output_type": "display_data"
    }
   ],
   "source": [
    "fruits=['Apple','Orange','Banana','Mango']\n",
    "price=[28,30,40,40]\n",
    "pt.pie(price,labels=fruits,autopct=\"%0.2f%%\",shadow=True)\n",
    "pt.show()"
   ]
  },
  {
   "cell_type": "code",
   "execution_count": 145,
   "id": "181a3dc8",
   "metadata": {},
   "outputs": [
    {
     "data": {
      "image/png": "[encoded data removed]",
      "text/plain": [
       "<Figure size 360x360 with 1 Axes>"
      ]
     },
     "metadata": {},
     "output_type": "display_data"
    }
   ],
   "source": [
    "pt.figure(figsize=(5,5))\n",
    "fruits=['Apple','Orange','Banana','Mango']\n",
    "price=[28,30,40,40]\n",
    "pt.pie(price,labels=fruits,autopct=\"%0.2f%%\",shadow=True)\n",
    "pt.show()"
   ]
  },
  {
   "cell_type": "code",
   "execution_count": 169,
   "id": "2d507dc5",
   "metadata": {},
   "outputs": [
    {
     "data": {
      "text/plain": [
       "0     1.0\n",
       "1     2.0\n",
       "2     4.0\n",
       "3     6.0\n",
       "4     8.0\n",
       "5     9.0\n",
       "6     9.9\n",
       "7     9.8\n",
       "8     9.7\n",
       "9     9.6\n",
       "10    9.5\n",
       "11    8.0\n",
       "12    6.0\n",
       "dtype: float64"
      ]
     },
     "execution_count": 169,
     "metadata": {},
     "output_type": "execute_result"
    }
   ],
   "source": [
    "s = pd.Series([1,2,4,6,8,9,9.9,9.8,9.7,9.6,9.5,8,6,])\n",
    "#s.plot.line()\n",
    "s"
   ]
  },
  {
   "cell_type": "code",
   "execution_count": 170,
   "id": "dcb7ff17",
   "metadata": {},
   "outputs": [
    {
     "data": {
      "image/png": "[encoded data removed]",
      "text/plain": [
       "<Figure size 432x288 with 1 Axes>"
      ]
     },
     "metadata": {
      "needs_background": "light"
     },
     "output_type": "display_data"
    }
   ],
   "source": [
    "s.plot.line()\n",
    "pt.show()"
   ]
  },
  {
   "cell_type": "code",
   "execution_count": null,
   "id": "11f3758d",
   "metadata": {},
   "outputs": [],
   "source": []
  }
 ],
 "metadata": {
  "kernelspec": {
   "display_name": "Python 3 (ipykernel)",
   "language": "python",
   "name": "python3"
  },
  "language_info": {
   "codemirror_mode": {
    "name": "ipython",
    "version": 3
   },
   "file_extension": ".py",
   "mimetype": "text/x-python",
   "name": "python",
   "nbconvert_exporter": "python",
   "pygments_lexer": "ipython3",
   "version": "3.9.12"
  }
 },
 "nbformat": 4,
 "nbformat_minor": 5
}
